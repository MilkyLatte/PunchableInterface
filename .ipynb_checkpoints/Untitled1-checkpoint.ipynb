{
 "cells": [
  {
   "cell_type": "code",
   "execution_count": null,
   "metadata": {},
   "outputs": [],
   "source": [
    "import serial\n",
    "import numpy as np\n",
    "import matplotlib as plt\n",
    "from drawnow import *\n",
    "import time\n",
    "\n",
    "arduinoData = serial.Serial('/dev/serial/by-id/usb-Arduino_Srl_Arduino_Uno_85431303736351A09150-if00', 115200)\n",
    "start = int(round(time.time()*1000))\n",
    "plt.ion()\n",
    "#arduinoData = serial.Serial('/dev/serial/by-id/usb-Arduino_Srl_Arduino_Uno_85431303736351A09150-if00', 1000000)\n",
    "data = []\n",
    "\n",
    "\n",
    "def makeFig():\n",
    "    plt.plot(data[0])\n",
    "\n",
    "\n",
    "i = 0\n",
    "while i < 10:\n",
    "    while (arduinoData.inWaiting() == 0):\n",
    "        pass\n",
    "    arduinoString = arduinoData.readline()\n",
    "    dataArray = arduinoString.decode().split(',')\n",
    "    try:\n",
    "        acX = float(dataArray[0])\n",
    "        acY = float(dataArray[1])\n",
    "        acZ = float(dataArray[2])\n",
    "\n",
    "        gyX = float(dataArray[3])\n",
    "        gyY = float(dataArray[4])\n",
    "        gyZ = float(dataArray[5])\n",
    "        currentTime = int(round(time.time()*1000))\n",
    "        timer = currentTime - start\n",
    "        new = [acX, acY, acZ, gyX, gyY, gyZ, timer]\n",
    "        data.append(new)\n",
    "        i += 1\n",
    "        # print(new)\n",
    "    except Exception:\n",
    "        pass\n",
    "\n",
    "makeFig()\n",
    "\n",
    "\n",
    "    # for i in range(len(dataArray)):\n",
    "    #     print(dataArray[i])\n"
   ]
  }
 ],
 "metadata": {
  "kernelspec": {
   "display_name": "Python 3",
   "language": "python",
   "name": "python3"
  }
 },
 "nbformat": 4,
 "nbformat_minor": 2
}
